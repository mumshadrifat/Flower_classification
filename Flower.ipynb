{
  "nbformat": 4,
  "nbformat_minor": 0,
  "metadata": {
    "colab": {
      "name": "Flower.ipynb",
      "provenance": [],
      "collapsed_sections": [],
      "include_colab_link": true
    },
    "kernelspec": {
      "name": "python3",
      "display_name": "Python 3"
    },
    "accelerator": "GPU"
  },
  "cells": [
    {
      "cell_type": "markdown",
      "metadata": {
        "id": "view-in-github",
        "colab_type": "text"
      },
      "source": [
        "<a href=\"https://colab.research.google.com/github/rijhkllll/Lost-world/blob/master/Flower.ipynb\" target=\"_parent\"><img src=\"https://colab.research.google.com/assets/colab-badge.svg\" alt=\"Open In Colab\"/></a>"
      ]
    },
    {
      "cell_type": "code",
      "metadata": {
        "id": "nvQOy2WeZuyV"
      },
      "source": [
        "import pathlib\n",
        "import pandas as pd\n",
        "import numpy as np\n",
        "from os import listdir\n",
        "from os.path import join\n",
        "import os\n",
        "import random\n",
        "import cv2\n",
        "class Process:\n",
        "    def __init__(self, data_directory,image_height,image_width):\n",
        "        self.directory = data_directory\n",
        "        self.height= image_height\n",
        "        self.width= image_width\n",
        "        \n",
        "    def ImageProcess(self):\n",
        "        all_image = []\n",
        "        size = self.height,self.width\n",
        "        \n",
        "        data_root = pathlib.Path(self.directory)\n",
        "        folders = os.listdir(data_root)\n",
        "        \n",
        "        all_image_paths = list(data_root.glob('*/*'))\n",
        "        all_image_paths = [str(path) for path in all_image_paths]\n",
        "        random.shuffle(all_image_paths)\n",
        "        \n",
        "        for path in all_image_paths:\n",
        "            img = cv2.imread(path)\n",
        "            #im = cv2.resize(img, None, fx=0.5, fy=0.5)   \n",
        "            im = cv2.resize(img,size)\n",
        "            im =im/ 255.0\n",
        "            all_image.append(im)\n",
        "        \n",
        "        all_image=np.asarray(all_image)\n",
        "            \n",
        "        label_to_index = dict((name, index) for index,name in enumerate(folders))\n",
        "        index_to_label= dict((index,name) for index,name in enumerate(folders))\n",
        "        all_image_labels = [label_to_index[pathlib.Path(path).parent.name] for path in all_image_paths]\n",
        "        all_image_labels=np.asarray(all_image_labels)\n",
        "\n",
        "        return all_image,all_image_labels,index_to_label\n"
      ],
      "execution_count": null,
      "outputs": []
    },
    {
      "cell_type": "code",
      "metadata": {
        "id": "8lGx80735O6O"
      },
      "source": [
        ""
      ],
      "execution_count": null,
      "outputs": []
    },
    {
      "cell_type": "code",
      "metadata": {
        "id": "ZcFsLuvF94dx",
        "colab": {
          "base_uri": "https://localhost:8080/",
          "height": 122
        },
        "outputId": "d3f22cc7-2ea2-4316-fd33-013886658337"
      },
      "source": [
        "from google.colab import drive\n",
        "drive.mount('/content/drive')"
      ],
      "execution_count": null,
      "outputs": [
        {
          "output_type": "stream",
          "text": [
            "Go to this URL in a browser: https://accounts.google.com/o/oauth2/auth?client_id=947318989803-6bn6qk8qdgf4n4g3pfee6491hc0brc4i.apps.googleusercontent.com&redirect_uri=urn%3aietf%3awg%3aoauth%3a2.0%3aoob&response_type=code&scope=email%20https%3a%2f%2fwww.googleapis.com%2fauth%2fdocs.test%20https%3a%2f%2fwww.googleapis.com%2fauth%2fdrive%20https%3a%2f%2fwww.googleapis.com%2fauth%2fdrive.photos.readonly%20https%3a%2f%2fwww.googleapis.com%2fauth%2fpeopleapi.readonly\n",
            "\n",
            "Enter your authorization code:\n",
            "··········\n",
            "Mounted at /content/drive\n"
          ],
          "name": "stdout"
        }
      ]
    },
    {
      "cell_type": "code",
      "metadata": {
        "id": "2Y7EAubaZ460"
      },
      "source": [
        ""
      ],
      "execution_count": null,
      "outputs": []
    },
    {
      "cell_type": "code",
      "metadata": {
        "id": "9xCpWsjYevDr"
      },
      "source": [
        ""
      ],
      "execution_count": null,
      "outputs": []
    },
    {
      "cell_type": "code",
      "metadata": {
        "id": "_NJtUaf5e62h"
      },
      "source": [
        ""
      ],
      "execution_count": null,
      "outputs": []
    },
    {
      "cell_type": "markdown",
      "metadata": {
        "id": "BGlRYSJLadk3"
      },
      "source": [
        ""
      ]
    },
    {
      "cell_type": "code",
      "metadata": {
        "id": "VufOakepaess",
        "colab": {
          "base_uri": "https://localhost:8080/",
          "height": 97
        },
        "outputId": "26f2b72a-ed8a-42e9-957d-77341a8b01a9"
      },
      "source": [
        "\n",
        "from __future__ import absolute_import, division, print_function, unicode_literals\n",
        "import tensorflow as tf\n",
        "import pathlib\n",
        "import random\n",
        "import keras\n",
        "import matplotlib.pyplot as plt\n",
        "import seaborn as sns\n",
        "import pandas as pd\n",
        "import numpy as np\n",
        "from os import listdir\n",
        "from os.path import join\n",
        "import cv2\n",
        "import pandas\n",
        "import os\n",
        "import datetime\n",
        "from keras import utils as np_utils\n",
        "from keras.preprocessing.image import ImageDataGenerator\n",
        "\n",
        "\n",
        "\n",
        "\n",
        "class ShowData:\n",
        "    def __init__(self, train_images,train_label,test_images,test_lebel,index_to_label):\n",
        "        self.train_images = train_images\n",
        "        self.train_label= train_label\n",
        "        self.test_images= test_images\n",
        "        self.test_lebel=test_lebel\n",
        "        self.index_to_label=index_to_label\n",
        "        \n",
        "    def checkTrainData(self):\n",
        "        plt.figure(figsize=(20,20))\n",
        "        for i in range(5):\n",
        "            plt.subplot(5,5,i+1)\n",
        "            plt.xticks([])\n",
        "            plt.yticks([])\n",
        "            plt.grid(False)\n",
        "            plt.imshow(self.train_images[i], cmap=plt.cm.binary)\n",
        "            plt.xlabel(self.index_to_label[self.train_label[i]])\n",
        "        plt.show()\n",
        "        \n",
        "    def TestingData(self,predictions,index_to_label):\n",
        "        plt.figure(figsize=(10,10))\n",
        "        for i in range(25):\n",
        "            plt.subplot(5,5,i+1)\n",
        "            plt.xticks([])\n",
        "            plt.yticks([])\n",
        "            plt.grid(False)\n",
        "            plt.imshow(self.test_images[i], cmap=plt.cm.binary)\n",
        "            plt.xlabel(index_to_label[np.argmax(predictions[i])])\n",
        "            plt.ylabel(index_to_label[self.test_lebel[i]])\n",
        "        plt.show()\n"
      ],
      "execution_count": null,
      "outputs": [
        {
          "output_type": "display_data",
          "data": {
            "text/html": [
              "<p style=\"color: red;\">\n",
              "The default version of TensorFlow in Colab will soon switch to TensorFlow 2.x.<br>\n",
              "We recommend you <a href=\"https://www.tensorflow.org/guide/migrate\" target=\"_blank\">upgrade</a> now \n",
              "or ensure your notebook will continue to use TensorFlow 1.x via the <code>%tensorflow_version 1.x</code> magic:\n",
              "<a href=\"https://colab.research.google.com/notebooks/tensorflow_version.ipynb\" target=\"_blank\">more info</a>.</p>\n"
            ],
            "text/plain": [
              "<IPython.core.display.HTML object>"
            ]
          },
          "metadata": {
            "tags": []
          }
        },
        {
          "output_type": "stream",
          "text": [
            "Using TensorFlow backend.\n"
          ],
          "name": "stderr"
        }
      ]
    },
    {
      "cell_type": "code",
      "metadata": {
        "id": "x5hUQcwcb9Hy"
      },
      "source": [
        "from __future__ import absolute_import, division, print_function, unicode_literals\n",
        "#from Preprocess import Process\n",
        "#from TestData import ShowData\n",
        "import tensorflow as tf\n",
        "import pathlib\n",
        "import random\n",
        "import keras\n",
        "import matplotlib.pyplot as plt\n",
        "import seaborn as sns\n",
        "import pandas as pd\n",
        "import numpy as np\n",
        "from os import listdir\n",
        "from os.path import join\n",
        "import cv2\n",
        "import pandas\n",
        "import os\n",
        "import datetime\n",
        "from keras import utils as np_utils\n",
        "from keras.preprocessing.image import ImageDataGenerator"
      ],
      "execution_count": null,
      "outputs": []
    },
    {
      "cell_type": "code",
      "metadata": {
        "id": "MBXh2ffngGFu"
      },
      "source": [
        "#process= Process(path,height,width)\n",
        "!ls \"drive/My Drive/flowers/data/flower_photos/daisy\""
      ],
      "execution_count": null,
      "outputs": []
    },
    {
      "cell_type": "code",
      "metadata": {
        "id": "nANG_qFfgL5R"
      },
      "source": [
        "#img = cv2.imread(\"drive/My Drive/flowers/data/flower_photos/daisy/3456403987_5bd5fa6ece_n.jpg\")\n",
        "#im = cv2.resize(img,(224,224))"
      ],
      "execution_count": null,
      "outputs": []
    },
    {
      "cell_type": "code",
      "metadata": {
        "id": "s7n8JO9IMjIr"
      },
      "source": [
        "all_image = []\n",
        "size = 224,224\n",
        "\n",
        "data_root = pathlib.Path(\"drive/My Drive/flowers/data/flower_photos/flowers\")\n",
        "folders = os.listdir(data_root)\n",
        "\n",
        "all_image_paths = list(data_root.glob('*/*'))\n",
        "all_image_paths = [str(path) for path in all_image_paths]\n",
        "random.shuffle(all_image_paths)\n",
        "\n",
        "for path in all_image_paths:\n",
        "    all_image.append(path)"
      ],
      "execution_count": null,
      "outputs": []
    },
    {
      "cell_type": "code",
      "metadata": {
        "id": "dGrwQSn8Cpi5"
      },
      "source": [
        "all_image1 = []\n",
        "for i in all_image:\n",
        "  if (len(i)>70):\n",
        "    img = cv2.imread(path)\n",
        "    #im = cv2.resize(img, None, fx=0.5, fy=0.5)   \n",
        "    im = cv2.resize(img,(224,224))\n",
        "    #print(im)\n",
        "    im =im/ 255.0\n",
        "    all_image1.append(im)\n",
        "\n",
        "all_image1=np.asarray(all_image1)\n",
        "    \n",
        "label_to_index = dict((name, index) for index,name in enumerate(folders))\n",
        "index_to_label= dict((index,name) for index,name in enumerate(folders))\n",
        "all_image_labels = [label_to_index[pathlib.Path(path).parent.name] for path in all_image_paths]\n",
        "all_image_labels=np.asarray(all_image_labels)\n"
      ],
      "execution_count": null,
      "outputs": []
    },
    {
      "cell_type": "code",
      "metadata": {
        "id": "2DhfIxiGft5l"
      },
      "source": [
        "# path=\"drive/My Drive/flowers/data/flower_photos\"\n",
        "# checkpoint_path = \"training_3/cp.ckpt\"\n",
        "# height=224\n",
        "# width=224\n",
        "# base_learning_rate=0.0001"
      ],
      "execution_count": null,
      "outputs": []
    },
    {
      "cell_type": "code",
      "metadata": {
        "id": "Ggxxa0bo0xsV"
      },
      "source": [
        ""
      ],
      "execution_count": null,
      "outputs": []
    },
    {
      "cell_type": "code",
      "metadata": {
        "id": "X-CYOW-mhoHL"
      },
      "source": [
        "train_images= all_image1[:3000]\n",
        "train_label= all_image_labels[:3000]\n",
        "test_images= all_image1[3000:3300]\n",
        "test_lebel=all_image_labels[3000:3300]\n",
        "val_images= all_image1[3300:]\n",
        "val_label=all_image_labels[3300:]\n",
        "# from sklearn.model_selection import train_test_split\n",
        "# train_images,train_label,test_images, test_label = train_test_split(images, labels, test_size=0.01,random_state=10)"
      ],
      "execution_count": null,
      "outputs": []
    },
    {
      "cell_type": "code",
      "metadata": {
        "id": "xbpISFoBiLAa",
        "colab": {
          "base_uri": "https://localhost:8080/",
          "height": 54
        },
        "outputId": "c05f7430-1e8c-4601-c7db-d7086a2eefa6"
      },
      "source": [
        "print(\"train_shape: {}, Train_labels: {},test_image_shape: {}, test_labels: {},validation_image_shape: {}, validation_labels: {}\".format(train_images.shape,train_label.shape,test_images.shape, test_lebel.shape,val_images.shape,val_label.shape ))"
      ],
      "execution_count": null,
      "outputs": [
        {
          "output_type": "stream",
          "text": [
            "train_shape: (3000, 224, 224, 3), Train_labels: (3000,),test_image_shape: (300, 224, 224, 3), test_labels: (300,),validation_image_shape: (1023, 224, 224, 3), validation_labels: (1026,)\n"
          ],
          "name": "stdout"
        }
      ]
    },
    {
      "cell_type": "code",
      "metadata": {
        "id": "xwXXdxMZm5si",
        "colab": {
          "base_uri": "https://localhost:8080/",
          "height": 252
        },
        "outputId": "ea9f27a1-bd21-4a14-a679-d554e284c859"
      },
      "source": [
        "showData=ShowData(train_images,train_label,test_images,test_lebel,index_to_label)\n",
        "showData.checkTrainData()"
      ],
      "execution_count": null,
      "outputs": [
        {
          "output_type": "display_data",
          "data": {
            "image/png": "[encoded data removed]",
            "text/plain": [
              "<Figure size 1440x1440 with 5 Axes>"
            ]
          },
          "metadata": {
            "tags": []
          }
        }
      ]
    },
    {
      "cell_type": "code",
      "metadata": {
        "id": "qM3sE2dYoSWn",
        "colab": {
          "base_uri": "https://localhost:8080/",
          "height": 428
        },
        "outputId": "069fa2bc-53c4-4225-b0f9-e5540ccec41d"
      },
      "source": [
        "VGG=tf.keras.applications.VGG16(input_shape=(224,224,3),include_top=False)\n",
        "VGG.trainable=False\n",
        "\n",
        "model = tf.keras.Sequential([\n",
        "  VGG,\n",
        "  tf.keras.layers.GlobalAveragePooling2D(),\n",
        "  tf.keras.layers.Dense(128, activation='relu'),\n",
        "  tf.keras.layers.Dropout(0.2),\n",
        "  tf.keras.layers.Dense(5, activation='softmax')\n",
        "])\n",
        "\n",
        "model.compile(optimizer=tf.keras.optimizers.Adam(lr=0.001),\n",
        "              loss='sparse_categorical_crossentropy',\n",
        "              metrics=['accuracy'])\n",
        "\n",
        "model.summary()"
      ],
      "execution_count": null,
      "outputs": [
        {
          "output_type": "stream",
          "text": [
            "WARNING:tensorflow:From /usr/local/lib/python3.6/dist-packages/tensorflow_core/python/ops/resource_variable_ops.py:1630: calling BaseResourceVariable.__init__ (from tensorflow.python.ops.resource_variable_ops) with constraint is deprecated and will be removed in a future version.\n",
            "Instructions for updating:\n",
            "If using Keras pass *_constraint arguments to layers.\n",
            "Downloading data from https://github.com/fchollet/deep-learning-models/releases/download/v0.1/vgg16_weights_tf_dim_ordering_tf_kernels_notop.h5\n",
            "58892288/58889256 [==============================] - 5s 0us/step\n",
            "Model: \"sequential\"\n",
            "_________________________________________________________________\n",
            "Layer (type)                 Output Shape              Param #   \n",
            "=================================================================\n",
            "vgg16 (Model)                (None, 7, 7, 512)         14714688  \n",
            "_________________________________________________________________\n",
            "global_average_pooling2d (Gl (None, 512)               0         \n",
            "_________________________________________________________________\n",
            "dense (Dense)                (None, 128)               65664     \n",
            "_________________________________________________________________\n",
            "dropout (Dropout)            (None, 128)               0         \n",
            "_________________________________________________________________\n",
            "dense_1 (Dense)              (None, 5)                 645       \n",
            "=================================================================\n",
            "Total params: 14,780,997\n",
            "Trainable params: 66,309\n",
            "Non-trainable params: 14,714,688\n",
            "_________________________________________________________________\n"
          ],
          "name": "stdout"
        }
      ]
    },
    {
      "cell_type": "code",
      "metadata": {
        "id": "rvDkA49CoeSa"
      },
      "source": [
        "datagen = ImageDataGenerator(\n",
        "    featurewise_center=True,\n",
        "    featurewise_std_normalization=True,\n",
        "    rotation_range=20,\n",
        "    width_shift_range=0.2,\n",
        "    height_shift_range=0.2,\n",
        "    horizontal_flip=True)\n",
        "\n",
        "#checkpoint_dir = os.path.dirname(checkpoint_path)\n",
        "\n",
        "# Create checkpoint callback\n",
        "#cp_callback = tf.keras.callbacks.ModelCheckpoint(checkpoint_path,\n",
        "                                             #    save_weights_only=True,\n",
        "                                              #   verbose=1)"
      ],
      "execution_count": null,
      "outputs": []
    },
    {
      "cell_type": "code",
      "metadata": {
        "id": "UpwesRovojbx"
      },
      "source": [
        "batch_size=8\n",
        "epochs=300\n"
      ],
      "execution_count": null,
      "outputs": []
    },
    {
      "cell_type": "code",
      "metadata": {
        "id": "N1sMmArtorkI",
        "colab": {
          "base_uri": "https://localhost:8080/",
          "height": 1000
        },
        "outputId": "f9b5e4b4-c092-486d-bcc4-53dc40c548af"
      },
      "source": [
        "datagen.fit(train_images)\n",
        "history=model.fit_generator(datagen.flow(train_images, train_label, batch_size=batch_size),\n",
        "                    steps_per_epoch=len(train_images) / batch_size, epochs=epochs,\n",
        "                    validation_data=(val_images, val_label))"
      ],
      "execution_count": null,
      "outputs": [
        {
          "output_type": "stream",
          "text": [
            "Epoch 1/300\n",
            "374/375 [============================>.] - ETA: 0s - loss: 1.6231 - acc: 0.2179Epoch 1/300\n",
            "1023/375 [=================================================================================] - 17s 17ms/sample - loss: 1.5665 - acc: 0.2473\n",
            "375/375 [==============================] - 72s 191ms/step - loss: 1.6234 - acc: 0.2173 - val_loss: 1.5993 - val_acc: 0.2473\n",
            "Epoch 2/300\n",
            "374/375 [============================>.] - ETA: 0s - loss: 1.6053 - acc: 0.2313Epoch 1/300\n",
            "1023/375 [=================================================================================] - 16s 15ms/sample - loss: 1.5784 - acc: 0.2473\n",
            "375/375 [==============================] - 63s 169ms/step - loss: 1.6051 - acc: 0.2317 - val_loss: 1.6000 - val_acc: 0.2473\n",
            "Epoch 3/300\n",
            "374/375 [============================>.] - ETA: 0s - loss: 1.6024 - acc: 0.2390Epoch 1/300\n",
            "1023/375 [=================================================================================] - 16s 15ms/sample - loss: 1.5750 - acc: 0.2473\n",
            "375/375 [==============================] - 63s 169ms/step - loss: 1.6023 - acc: 0.2390 - val_loss: 1.6008 - val_acc: 0.2473\n",
            "Epoch 4/300\n",
            "374/375 [============================>.] - ETA: 0s - loss: 1.5997 - acc: 0.2353Epoch 1/300\n",
            "1023/375 [=================================================================================] - 16s 15ms/sample - loss: 1.5851 - acc: 0.2473\n",
            "375/375 [==============================] - 64s 171ms/step - loss: 1.6000 - acc: 0.2350 - val_loss: 1.6022 - val_acc: 0.2473\n",
            "Epoch 5/300\n",
            "374/375 [============================>.] - ETA: 0s - loss: 1.6001 - acc: 0.2386Epoch 1/300\n",
            "1023/375 [=================================================================================] - 16s 15ms/sample - loss: 1.5782 - acc: 0.2473\n",
            "375/375 [==============================] - 64s 172ms/step - loss: 1.6002 - acc: 0.2387 - val_loss: 1.6012 - val_acc: 0.2473\n",
            "Epoch 6/300\n",
            "374/375 [============================>.] - ETA: 0s - loss: 1.5995 - acc: 0.2343Epoch 1/300\n",
            "1023/375 [=================================================================================] - 16s 15ms/sample - loss: 1.5826 - acc: 0.2473\n",
            "375/375 [==============================] - 63s 168ms/step - loss: 1.5998 - acc: 0.2337 - val_loss: 1.6014 - val_acc: 0.2473\n",
            "Epoch 7/300\n",
            "374/375 [============================>.] - ETA: 0s - loss: 1.5996 - acc: 0.2390Epoch 1/300\n",
            "1023/375 [=================================================================================] - 16s 15ms/sample - loss: 1.5768 - acc: 0.2473\n",
            "375/375 [==============================] - 65s 173ms/step - loss: 1.5995 - acc: 0.2393 - val_loss: 1.6001 - val_acc: 0.2473\n",
            "Epoch 8/300\n",
            "374/375 [============================>.] - ETA: 0s - loss: 1.5986 - acc: 0.2416Epoch 1/300\n",
            "1023/375 [=================================================================================] - 16s 15ms/sample - loss: 1.5813 - acc: 0.2473\n",
            "375/375 [==============================] - 64s 170ms/step - loss: 1.5985 - acc: 0.2413 - val_loss: 1.6004 - val_acc: 0.2473\n",
            "Epoch 9/300\n",
            "374/375 [============================>.] - ETA: 0s - loss: 1.6001 - acc: 0.2416Epoch 1/300\n",
            "1023/375 [=================================================================================] - 16s 15ms/sample - loss: 1.5803 - acc: 0.2473\n",
            "375/375 [==============================] - 63s 169ms/step - loss: 1.5999 - acc: 0.2413 - val_loss: 1.6002 - val_acc: 0.2473\n",
            "Epoch 10/300\n",
            "374/375 [============================>.] - ETA: 0s - loss: 1.5990 - acc: 0.2413Epoch 1/300\n",
            "1023/375 [=================================================================================] - 16s 15ms/sample - loss: 1.5778 - acc: 0.2473\n",
            "375/375 [==============================] - 63s 169ms/step - loss: 1.5988 - acc: 0.2413 - val_loss: 1.6000 - val_acc: 0.2473\n",
            "Epoch 11/300\n",
            "374/375 [============================>.] - ETA: 0s - loss: 1.5984 - acc: 0.2413Epoch 1/300\n",
            "1023/375 [=================================================================================] - 16s 15ms/sample - loss: 1.5774 - acc: 0.2473\n",
            "375/375 [==============================] - 63s 168ms/step - loss: 1.5985 - acc: 0.2413 - val_loss: 1.6001 - val_acc: 0.2473\n",
            "Epoch 12/300\n",
            "374/375 [============================>.] - ETA: 0s - loss: 1.5983 - acc: 0.2413Epoch 1/300\n",
            "1023/375 [=================================================================================] - 16s 15ms/sample - loss: 1.5765 - acc: 0.2473\n",
            "375/375 [==============================] - 64s 170ms/step - loss: 1.5983 - acc: 0.2413 - val_loss: 1.6001 - val_acc: 0.2473\n",
            "Epoch 13/300\n",
            "374/375 [============================>.] - ETA: 0s - loss: 1.5982 - acc: 0.2416Epoch 1/300\n",
            "1023/375 [=================================================================================] - 16s 15ms/sample - loss: 1.5754 - acc: 0.2473\n",
            "375/375 [==============================] - 64s 169ms/step - loss: 1.5984 - acc: 0.2413 - val_loss: 1.6001 - val_acc: 0.2473\n",
            "Epoch 14/300\n",
            "374/375 [============================>.] - ETA: 0s - loss: 1.5983 - acc: 0.2416Epoch 1/300\n",
            "1023/375 [=================================================================================] - 16s 15ms/sample - loss: 1.5752 - acc: 0.2473\n",
            "375/375 [==============================] - 64s 171ms/step - loss: 1.5984 - acc: 0.2413 - val_loss: 1.6001 - val_acc: 0.2473\n",
            "Epoch 15/300\n",
            "374/375 [============================>.] - ETA: 0s - loss: 1.5985 - acc: 0.2410Epoch 1/300\n",
            "1023/375 [=================================================================================] - 16s 15ms/sample - loss: 1.5746 - acc: 0.2473\n",
            "375/375 [==============================] - 65s 173ms/step - loss: 1.5983 - acc: 0.2413 - val_loss: 1.6001 - val_acc: 0.2473\n",
            "Epoch 16/300\n",
            "374/375 [============================>.] - ETA: 0s - loss: 1.5983 - acc: 0.2413Epoch 1/300\n",
            "1023/375 [=================================================================================] - 16s 15ms/sample - loss: 1.5754 - acc: 0.2473\n",
            "375/375 [==============================] - 63s 169ms/step - loss: 1.5983 - acc: 0.2413 - val_loss: 1.6003 - val_acc: 0.2473\n",
            "Epoch 17/300\n",
            "374/375 [============================>.] - ETA: 0s - loss: 1.5984 - acc: 0.2410Epoch 1/300\n",
            "1023/375 [=================================================================================] - 16s 15ms/sample - loss: 1.5754 - acc: 0.2473\n",
            "375/375 [==============================] - 63s 167ms/step - loss: 1.5983 - acc: 0.2413 - val_loss: 1.6002 - val_acc: 0.2473\n",
            "Epoch 18/300\n",
            "374/375 [============================>.] - ETA: 0s - loss: 1.5981 - acc: 0.2416Epoch 1/300\n",
            "1023/375 [=================================================================================] - 16s 15ms/sample - loss: 1.5753 - acc: 0.2473\n",
            "375/375 [==============================] - 65s 173ms/step - loss: 1.5983 - acc: 0.2413 - val_loss: 1.6002 - val_acc: 0.2473\n",
            "Epoch 19/300\n",
            "374/375 [============================>.] - ETA: 0s - loss: 1.5984 - acc: 0.2410Epoch 1/300\n",
            "1023/375 [=================================================================================] - 16s 15ms/sample - loss: 1.5752 - acc: 0.2473\n",
            "375/375 [==============================] - 64s 170ms/step - loss: 1.5983 - acc: 0.2413 - val_loss: 1.6003 - val_acc: 0.2473\n",
            "Epoch 20/300\n",
            "374/375 [============================>.] - ETA: 0s - loss: 1.5986 - acc: 0.2406Epoch 1/300\n",
            "1023/375 [=================================================================================] - 16s 15ms/sample - loss: 1.5766 - acc: 0.2473\n",
            "375/375 [==============================] - 64s 171ms/step - loss: 1.5984 - acc: 0.2413 - val_loss: 1.6003 - val_acc: 0.2473\n",
            "Epoch 21/300\n",
            "374/375 [============================>.] - ETA: 0s - loss: 1.5984 - acc: 0.2410Epoch 1/300\n",
            "1023/375 [=================================================================================] - 16s 15ms/sample - loss: 1.5761 - acc: 0.2473\n",
            "375/375 [==============================] - 63s 169ms/step - loss: 1.5983 - acc: 0.2413 - val_loss: 1.6003 - val_acc: 0.2473\n",
            "Epoch 22/300\n",
            "374/375 [============================>.] - ETA: 0s - loss: 1.5982 - acc: 0.2413Epoch 1/300\n",
            "1023/375 [=================================================================================] - 16s 15ms/sample - loss: 1.5753 - acc: 0.2473\n",
            "375/375 [==============================] - 63s 169ms/step - loss: 1.5983 - acc: 0.2413 - val_loss: 1.6003 - val_acc: 0.2473\n",
            "Epoch 23/300\n",
            "374/375 [============================>.] - ETA: 0s - loss: 1.5984 - acc: 0.2410Epoch 1/300\n",
            "1023/375 [=================================================================================] - 16s 15ms/sample - loss: 1.5761 - acc: 0.2473\n",
            "375/375 [==============================] - 64s 172ms/step - loss: 1.5984 - acc: 0.2413 - val_loss: 1.6004 - val_acc: 0.2473\n",
            "Epoch 24/300\n",
            "374/375 [============================>.] - ETA: 0s - loss: 1.5986 - acc: 0.2406Epoch 1/300\n",
            "1023/375 [=================================================================================] - 16s 15ms/sample - loss: 1.5764 - acc: 0.2473\n",
            "375/375 [==============================] - 63s 168ms/step - loss: 1.5983 - acc: 0.2413 - val_loss: 1.6003 - val_acc: 0.2473\n",
            "Epoch 25/300\n",
            "374/375 [============================>.] - ETA: 0s - loss: 1.5983 - acc: 0.2416Epoch 1/300\n",
            "1023/375 [=================================================================================] - 16s 15ms/sample - loss: 1.5768 - acc: 0.2473\n",
            "375/375 [==============================] - 64s 172ms/step - loss: 1.5983 - acc: 0.2413 - val_loss: 1.6004 - val_acc: 0.2473\n",
            "Epoch 26/300\n",
            "374/375 [============================>.] - ETA: 0s - loss: 1.5983 - acc: 0.2410Epoch 1/300\n",
            "1023/375 [=================================================================================] - 16s 15ms/sample - loss: 1.5760 - acc: 0.2473\n",
            "375/375 [==============================] - 64s 171ms/step - loss: 1.5983 - acc: 0.2413 - val_loss: 1.6004 - val_acc: 0.2473\n",
            "Epoch 27/300\n",
            "374/375 [============================>.] - ETA: 0s - loss: 1.5983 - acc: 0.2420Epoch 1/300\n",
            "1023/375 [=================================================================================] - 16s 15ms/sample - loss: 1.5760 - acc: 0.2473\n",
            "375/375 [==============================] - 63s 169ms/step - loss: 1.5983 - acc: 0.2413 - val_loss: 1.6004 - val_acc: 0.2473\n",
            "Epoch 28/300\n",
            "374/375 [============================>.] - ETA: 0s - loss: 1.5986 - acc: 0.2403Epoch 1/300\n",
            "1023/375 [=================================================================================] - 16s 15ms/sample - loss: 1.5764 - acc: 0.2473\n",
            "375/375 [==============================] - 63s 167ms/step - loss: 1.5983 - acc: 0.2413 - val_loss: 1.6004 - val_acc: 0.2473\n",
            "Epoch 29/300\n",
            "374/375 [============================>.] - ETA: 0s - loss: 1.5985 - acc: 0.2410Epoch 1/300\n",
            "1023/375 [=================================================================================] - 16s 15ms/sample - loss: 1.5756 - acc: 0.2473\n",
            "375/375 [==============================] - 64s 170ms/step - loss: 1.5983 - acc: 0.2413 - val_loss: 1.6003 - val_acc: 0.2473\n",
            "Epoch 30/300\n",
            "374/375 [============================>.] - ETA: 0s - loss: 1.5982 - acc: 0.2416Epoch 1/300\n",
            "1023/375 [=================================================================================] - 16s 15ms/sample - loss: 1.5761 - acc: 0.2473\n",
            "375/375 [==============================] - 65s 173ms/step - loss: 1.5983 - acc: 0.2413 - val_loss: 1.6004 - val_acc: 0.2473\n",
            "Epoch 31/300\n",
            "374/375 [============================>.] - ETA: 0s - loss: 1.5981 - acc: 0.2416Epoch 1/300\n",
            "1023/375 [=================================================================================] - 16s 15ms/sample - loss: 1.5762 - acc: 0.2473\n",
            "375/375 [==============================] - 65s 172ms/step - loss: 1.5983 - acc: 0.2413 - val_loss: 1.6004 - val_acc: 0.2473\n",
            "Epoch 32/300\n",
            "374/375 [============================>.] - ETA: 0s - loss: 1.5983 - acc: 0.2413Epoch 1/300\n",
            "1023/375 [=================================================================================] - 16s 15ms/sample - loss: 1.5751 - acc: 0.2473\n",
            "375/375 [==============================] - 63s 168ms/step - loss: 1.5983 - acc: 0.2413 - val_loss: 1.6002 - val_acc: 0.2473\n",
            "Epoch 33/300\n",
            "374/375 [============================>.] - ETA: 0s - loss: 1.5983 - acc: 0.2416Epoch 1/300\n",
            "1023/375 [=================================================================================] - 16s 15ms/sample - loss: 1.5744 - acc: 0.2473\n",
            "375/375 [==============================] - 64s 170ms/step - loss: 1.5984 - acc: 0.2413 - val_loss: 1.6002 - val_acc: 0.2473\n",
            "Epoch 34/300\n",
            "374/375 [============================>.] - ETA: 0s - loss: 1.5982 - acc: 0.2416Epoch 1/300\n",
            "1023/375 [=================================================================================] - 16s 15ms/sample - loss: 1.5750 - acc: 0.2473\n",
            "375/375 [==============================] - 66s 175ms/step - loss: 1.5983 - acc: 0.2413 - val_loss: 1.6003 - val_acc: 0.2473\n",
            "Epoch 35/300\n",
            "374/375 [============================>.] - ETA: 0s - loss: 1.5980 - acc: 0.2420Epoch 1/300\n",
            "1023/375 [=================================================================================] - 16s 15ms/sample - loss: 1.5747 - acc: 0.2473\n",
            "375/375 [==============================] - 64s 171ms/step - loss: 1.5983 - acc: 0.2413 - val_loss: 1.6002 - val_acc: 0.2473\n",
            "Epoch 36/300\n",
            "374/375 [============================>.] - ETA: 0s - loss: 1.5981 - acc: 0.2420Epoch 1/300\n",
            "1023/375 [=================================================================================] - 16s 15ms/sample - loss: 1.5756 - acc: 0.2473\n",
            "375/375 [==============================] - 64s 170ms/step - loss: 1.5983 - acc: 0.2413 - val_loss: 1.6003 - val_acc: 0.2473\n",
            "Epoch 37/300\n",
            "374/375 [============================>.] - ETA: 0s - loss: 1.5980 - acc: 0.2420Epoch 1/300\n",
            "1023/375 [=================================================================================] - 16s 15ms/sample - loss: 1.5745 - acc: 0.2473\n",
            "375/375 [==============================] - 64s 171ms/step - loss: 1.5983 - acc: 0.2413 - val_loss: 1.6002 - val_acc: 0.2473\n",
            "Epoch 38/300\n",
            "374/375 [============================>.] - ETA: 0s - loss: 1.5982 - acc: 0.2413Epoch 1/300\n",
            "1023/375 [=================================================================================] - 16s 15ms/sample - loss: 1.5755 - acc: 0.2473\n",
            "375/375 [==============================] - 64s 171ms/step - loss: 1.5983 - acc: 0.2413 - val_loss: 1.6003 - val_acc: 0.2473\n",
            "Epoch 39/300\n",
            "374/375 [============================>.] - ETA: 0s - loss: 1.5982 - acc: 0.2420Epoch 1/300\n",
            "1023/375 [=================================================================================] - 16s 15ms/sample - loss: 1.5746 - acc: 0.2473\n",
            "375/375 [==============================] - 63s 168ms/step - loss: 1.5983 - acc: 0.2413 - val_loss: 1.6002 - val_acc: 0.2473\n",
            "Epoch 40/300\n",
            "374/375 [============================>.] - ETA: 0s - loss: 1.5984 - acc: 0.2416Epoch 1/300\n",
            "1023/375 [=================================================================================] - 16s 15ms/sample - loss: 1.5743 - acc: 0.2473\n",
            "375/375 [==============================] - 64s 171ms/step - loss: 1.5984 - acc: 0.2413 - val_loss: 1.6002 - val_acc: 0.2473\n",
            "Epoch 41/300\n",
            "374/375 [============================>.] - ETA: 0s - loss: 1.5983 - acc: 0.2410Epoch 1/300\n",
            "1023/375 [=================================================================================] - 16s 15ms/sample - loss: 1.5755 - acc: 0.2473\n",
            "375/375 [==============================] - 64s 170ms/step - loss: 1.5983 - acc: 0.2413 - val_loss: 1.6003 - val_acc: 0.2473\n",
            "Epoch 42/300\n",
            "374/375 [============================>.] - ETA: 0s - loss: 1.5983 - acc: 0.2410Epoch 1/300\n",
            "1023/375 [=================================================================================] - 16s 15ms/sample - loss: 1.5754 - acc: 0.2473\n",
            "375/375 [==============================] - 64s 170ms/step - loss: 1.5982 - acc: 0.2413 - val_loss: 1.6003 - val_acc: 0.2473\n",
            "Epoch 43/300\n",
            "374/375 [============================>.] - ETA: 0s - loss: 1.5983 - acc: 0.2410Epoch 1/300\n",
            "1023/375 [=================================================================================] - 16s 15ms/sample - loss: 1.5756 - acc: 0.2473\n",
            "375/375 [==============================] - 63s 168ms/step - loss: 1.5983 - acc: 0.2413 - val_loss: 1.6003 - val_acc: 0.2473\n",
            "Epoch 44/300\n",
            "374/375 [============================>.] - ETA: 0s - loss: 1.5984 - acc: 0.2416Epoch 1/300\n",
            "1023/375 [=================================================================================] - 16s 15ms/sample - loss: 1.5751 - acc: 0.2473\n",
            "375/375 [==============================] - 63s 169ms/step - loss: 1.5983 - acc: 0.2413 - val_loss: 1.6001 - val_acc: 0.2473\n",
            "Epoch 45/300\n",
            "374/375 [============================>.] - ETA: 0s - loss: 1.5981 - acc: 0.2416Epoch 1/300\n",
            "1023/375 [=================================================================================] - 16s 15ms/sample - loss: 1.5752 - acc: 0.2473\n",
            "375/375 [==============================] - 65s 173ms/step - loss: 1.5983 - acc: 0.2413 - val_loss: 1.6002 - val_acc: 0.2473\n",
            "Epoch 46/300\n",
            "374/375 [============================>.] - ETA: 0s - loss: 1.5983 - acc: 0.2420Epoch 1/300\n",
            "1023/375 [=================================================================================] - 16s 15ms/sample - loss: 1.5756 - acc: 0.2473\n",
            "375/375 [==============================] - 64s 170ms/step - loss: 1.5983 - acc: 0.2413 - val_loss: 1.6003 - val_acc: 0.2473\n",
            "Epoch 47/300\n",
            "374/375 [============================>.] - ETA: 0s - loss: 1.5981 - acc: 0.2416Epoch 1/300\n",
            "1023/375 [=================================================================================] - 16s 15ms/sample - loss: 1.5764 - acc: 0.2473\n",
            "375/375 [==============================] - 65s 173ms/step - loss: 1.5983 - acc: 0.2413 - val_loss: 1.6004 - val_acc: 0.2473\n",
            "Epoch 48/300\n",
            "374/375 [============================>.] - ETA: 0s - loss: 1.5984 - acc: 0.2413Epoch 1/300\n",
            "1023/375 [=================================================================================] - 16s 15ms/sample - loss: 1.5752 - acc: 0.2473\n",
            "375/375 [==============================] - 64s 171ms/step - loss: 1.5983 - acc: 0.2413 - val_loss: 1.6002 - val_acc: 0.2473\n",
            "Epoch 49/300\n",
            "374/375 [============================>.] - ETA: 0s - loss: 1.5982 - acc: 0.2416Epoch 1/300\n",
            "1023/375 [=================================================================================] - 16s 15ms/sample - loss: 1.5751 - acc: 0.2473\n",
            "375/375 [==============================] - 64s 170ms/step - loss: 1.5983 - acc: 0.2413 - val_loss: 1.6002 - val_acc: 0.2473\n",
            "Epoch 50/300\n",
            "374/375 [============================>.] - ETA: 0s - loss: 1.5980 - acc: 0.2420Epoch 1/300\n",
            "1023/375 [=================================================================================] - 16s 15ms/sample - loss: 1.5757 - acc: 0.2473\n",
            "375/375 [==============================] - 63s 169ms/step - loss: 1.5982 - acc: 0.2413 - val_loss: 1.6003 - val_acc: 0.2473\n",
            "Epoch 51/300\n",
            "374/375 [============================>.] - ETA: 0s - loss: 1.5984 - acc: 0.2410Epoch 1/300\n",
            "1023/375 [=================================================================================] - 16s 15ms/sample - loss: 1.5756 - acc: 0.2473\n",
            "375/375 [==============================] - 64s 171ms/step - loss: 1.5983 - acc: 0.2413 - val_loss: 1.6003 - val_acc: 0.2473\n",
            "Epoch 52/300\n",
            "374/375 [============================>.] - ETA: 0s - loss: 1.5984 - acc: 0.2410Epoch 1/300\n",
            "1023/375 [=================================================================================] - 16s 15ms/sample - loss: 1.5748 - acc: 0.2473\n",
            "375/375 [==============================] - 63s 169ms/step - loss: 1.5983 - acc: 0.2413 - val_loss: 1.6001 - val_acc: 0.2473\n",
            "Epoch 53/300\n",
            "374/375 [============================>.] - ETA: 0s - loss: 1.5982 - acc: 0.2416Epoch 1/300\n",
            "1023/375 [=================================================================================] - 16s 15ms/sample - loss: 1.5744 - acc: 0.2473\n",
            "375/375 [==============================] - 63s 169ms/step - loss: 1.5983 - acc: 0.2413 - val_loss: 1.6001 - val_acc: 0.2473\n",
            "Epoch 54/300\n",
            "374/375 [============================>.] - ETA: 0s - loss: 1.5986 - acc: 0.2410Epoch 1/300\n",
            "1023/375 [=================================================================================] - 16s 15ms/sample - loss: 1.5749 - acc: 0.2473\n",
            "375/375 [==============================] - 65s 172ms/step - loss: 1.5983 - acc: 0.2413 - val_loss: 1.6002 - val_acc: 0.2473\n",
            "Epoch 55/300\n",
            "374/375 [============================>.] - ETA: 0s - loss: 1.5981 - acc: 0.2416Epoch 1/300\n",
            "1023/375 [=================================================================================] - 16s 15ms/sample - loss: 1.5750 - acc: 0.2473\n",
            "375/375 [==============================] - 64s 170ms/step - loss: 1.5983 - acc: 0.2413 - val_loss: 1.6003 - val_acc: 0.2473\n",
            "Epoch 56/300\n",
            "374/375 [============================>.] - ETA: 0s - loss: 1.5984 - acc: 0.2413Epoch 1/300\n",
            "1023/375 [=================================================================================] - 16s 15ms/sample - loss: 1.5750 - acc: 0.2473\n",
            "375/375 [==============================] - 63s 168ms/step - loss: 1.5983 - acc: 0.2413 - val_loss: 1.6002 - val_acc: 0.2473\n",
            "Epoch 57/300\n",
            "374/375 [============================>.] - ETA: 0s - loss: 1.5985 - acc: 0.2410Epoch 1/300\n",
            "1023/375 [=================================================================================] - 16s 15ms/sample - loss: 1.5749 - acc: 0.2473\n",
            "375/375 [==============================] - 63s 169ms/step - loss: 1.5983 - acc: 0.2413 - val_loss: 1.6002 - val_acc: 0.2473\n",
            "Epoch 58/300\n",
            "374/375 [============================>.] - ETA: 0s - loss: 1.5983 - acc: 0.2413Epoch 1/300\n",
            "1023/375 [=================================================================================] - 16s 15ms/sample - loss: 1.5753 - acc: 0.2473\n",
            "375/375 [==============================] - 64s 171ms/step - loss: 1.5984 - acc: 0.2413 - val_loss: 1.6002 - val_acc: 0.2473\n",
            "Epoch 59/300\n",
            "374/375 [============================>.] - ETA: 0s - loss: 1.5983 - acc: 0.2416Epoch 1/300\n",
            "1023/375 [=================================================================================] - 16s 15ms/sample - loss: 1.5752 - acc: 0.2473\n",
            "375/375 [==============================] - 65s 173ms/step - loss: 1.5983 - acc: 0.2413 - val_loss: 1.6002 - val_acc: 0.2473\n",
            "Epoch 60/300\n",
            "374/375 [============================>.] - ETA: 0s - loss: 1.5984 - acc: 0.2410Epoch 1/300\n",
            "1023/375 [=================================================================================] - 16s 15ms/sample - loss: 1.5758 - acc: 0.2473\n",
            "375/375 [==============================] - 63s 167ms/step - loss: 1.5984 - acc: 0.2413 - val_loss: 1.6003 - val_acc: 0.2473\n",
            "Epoch 61/300\n",
            "374/375 [============================>.] - ETA: 0s - loss: 1.5984 - acc: 0.2413Epoch 1/300\n",
            "1023/375 [=================================================================================] - 16s 15ms/sample - loss: 1.5758 - acc: 0.2473\n",
            "375/375 [==============================] - 64s 170ms/step - loss: 1.5983 - acc: 0.2413 - val_loss: 1.6003 - val_acc: 0.2473\n",
            "Epoch 62/300\n",
            "374/375 [============================>.] - ETA: 0s - loss: 1.5983 - acc: 0.2413Epoch 1/300\n",
            "1023/375 [=================================================================================] - 16s 15ms/sample - loss: 1.5744 - acc: 0.2473\n",
            "375/375 [==============================] - 64s 172ms/step - loss: 1.5983 - acc: 0.2413 - val_loss: 1.6002 - val_acc: 0.2473\n",
            "Epoch 63/300\n",
            "374/375 [============================>.] - ETA: 0s - loss: 1.5984 - acc: 0.2413Epoch 1/300\n",
            "1023/375 [=================================================================================] - 16s 15ms/sample - loss: 1.5753 - acc: 0.2473\n",
            "375/375 [==============================] - 65s 172ms/step - loss: 1.5983 - acc: 0.2413 - val_loss: 1.6002 - val_acc: 0.2473\n",
            "Epoch 64/300\n",
            "374/375 [============================>.] - ETA: 0s - loss: 1.5985 - acc: 0.2413Epoch 1/300\n",
            "1023/375 [=================================================================================] - 16s 15ms/sample - loss: 1.5752 - acc: 0.2473\n",
            "375/375 [==============================] - 64s 170ms/step - loss: 1.5983 - acc: 0.2413 - val_loss: 1.6003 - val_acc: 0.2473\n",
            "Epoch 65/300\n",
            "374/375 [============================>.] - ETA: 0s - loss: 1.5983 - acc: 0.2413Epoch 1/300\n",
            "1023/375 [=================================================================================] - 16s 15ms/sample - loss: 1.5748 - acc: 0.2473\n",
            "375/375 [==============================] - 64s 171ms/step - loss: 1.5983 - acc: 0.2413 - val_loss: 1.6003 - val_acc: 0.2473\n",
            "Epoch 66/300\n",
            "374/375 [============================>.] - ETA: 0s - loss: 1.5984 - acc: 0.2413Epoch 1/300\n",
            "1023/375 [=================================================================================] - 16s 15ms/sample - loss: 1.5738 - acc: 0.2473\n",
            "375/375 [==============================] - 64s 171ms/step - loss: 1.5983 - acc: 0.2413 - val_loss: 1.6002 - val_acc: 0.2473\n",
            "Epoch 67/300\n",
            "374/375 [============================>.] - ETA: 0s - loss: 1.5985 - acc: 0.2410Epoch 1/300\n",
            "1023/375 [=================================================================================] - 16s 15ms/sample - loss: 1.5747 - acc: 0.2473\n",
            "375/375 [==============================] - 64s 171ms/step - loss: 1.5984 - acc: 0.2413 - val_loss: 1.6002 - val_acc: 0.2473\n",
            "Epoch 68/300\n",
            "374/375 [============================>.] - ETA: 0s - loss: 1.5983 - acc: 0.2413Epoch 1/300\n",
            "1023/375 [=================================================================================] - 16s 15ms/sample - loss: 1.5748 - acc: 0.2473\n",
            "375/375 [==============================] - 63s 168ms/step - loss: 1.5984 - acc: 0.2413 - val_loss: 1.6003 - val_acc: 0.2473\n",
            "Epoch 69/300\n",
            "374/375 [============================>.] - ETA: 0s - loss: 1.5983 - acc: 0.2420Epoch 1/300\n",
            "1023/375 [=================================================================================] - 16s 15ms/sample - loss: 1.5749 - acc: 0.2473\n",
            "375/375 [==============================] - 63s 169ms/step - loss: 1.5983 - acc: 0.2413 - val_loss: 1.6003 - val_acc: 0.2473\n",
            "Epoch 70/300\n",
            "374/375 [============================>.] - ETA: 0s - loss: 1.5983 - acc: 0.2413Epoch 1/300\n",
            "1023/375 [=================================================================================] - 16s 15ms/sample - loss: 1.5757 - acc: 0.2473\n",
            "375/375 [==============================] - 64s 171ms/step - loss: 1.5983 - acc: 0.2413 - val_loss: 1.6003 - val_acc: 0.2473\n",
            "Epoch 71/300\n",
            "374/375 [============================>.] - ETA: 0s - loss: 1.5983 - acc: 0.2416Epoch 1/300\n",
            "1023/375 [=================================================================================] - 16s 15ms/sample - loss: 1.5746 - acc: 0.2473\n",
            "375/375 [==============================] - 63s 168ms/step - loss: 1.5983 - acc: 0.2413 - val_loss: 1.6002 - val_acc: 0.2473\n",
            "Epoch 72/300\n",
            "374/375 [============================>.] - ETA: 0s - loss: 1.5984 - acc: 0.2406Epoch 1/300\n",
            "1023/375 [=================================================================================] - 16s 15ms/sample - loss: 1.5758 - acc: 0.2473\n",
            "375/375 [==============================] - 64s 170ms/step - loss: 1.5983 - acc: 0.2413 - val_loss: 1.6002 - val_acc: 0.2473\n",
            "Epoch 73/300\n",
            "374/375 [============================>.] - ETA: 0s - loss: 1.5983 - acc: 0.2413Epoch 1/300\n",
            "1023/375 [=================================================================================] - 16s 15ms/sample - loss: 1.5756 - acc: 0.2473\n",
            "375/375 [==============================] - 65s 172ms/step - loss: 1.5983 - acc: 0.2413 - val_loss: 1.6003 - val_acc: 0.2473\n",
            "Epoch 74/300\n",
            "374/375 [============================>.] - ETA: 0s - loss: 1.5984 - acc: 0.2410Epoch 1/300\n",
            "1023/375 [=================================================================================] - 16s 15ms/sample - loss: 1.5759 - acc: 0.2473\n",
            "375/375 [==============================] - 64s 170ms/step - loss: 1.5983 - acc: 0.2413 - val_loss: 1.6003 - val_acc: 0.2473\n",
            "Epoch 75/300\n",
            "374/375 [============================>.] - ETA: 0s - loss: 1.5981 - acc: 0.2413Epoch 1/300\n",
            "1023/375 [=================================================================================] - 16s 15ms/sample - loss: 1.5759 - acc: 0.2473\n",
            "375/375 [==============================] - 64s 171ms/step - loss: 1.5983 - acc: 0.2413 - val_loss: 1.6004 - val_acc: 0.2473\n",
            "Epoch 76/300\n",
            "374/375 [============================>.] - ETA: 0s - loss: 1.5982 - acc: 0.2416Epoch 1/300\n",
            "1023/375 [=================================================================================] - 16s 15ms/sample - loss: 1.5749 - acc: 0.2473\n",
            "375/375 [==============================] - 64s 170ms/step - loss: 1.5983 - acc: 0.2413 - val_loss: 1.6003 - val_acc: 0.2473\n",
            "Epoch 77/300\n",
            "374/375 [============================>.] - ETA: 0s - loss: 1.5985 - acc: 0.2416Epoch 1/300\n",
            "1023/375 [=================================================================================] - 16s 15ms/sample - loss: 1.5758 - acc: 0.2473\n",
            "375/375 [==============================] - 65s 172ms/step - loss: 1.5983 - acc: 0.2413 - val_loss: 1.6004 - val_acc: 0.2473\n",
            "Epoch 78/300\n",
            "374/375 [============================>.] - ETA: 0s - loss: 1.5983 - acc: 0.2416Epoch 1/300\n",
            "1023/375 [=================================================================================] - 16s 15ms/sample - loss: 1.5757 - acc: 0.2473\n",
            "375/375 [==============================] - 65s 172ms/step - loss: 1.5984 - acc: 0.2413 - val_loss: 1.6003 - val_acc: 0.2473\n",
            "Epoch 79/300\n",
            "374/375 [============================>.] - ETA: 0s - loss: 1.5982 - acc: 0.2413Epoch 1/300\n",
            "1023/375 [=================================================================================] - 16s 15ms/sample - loss: 1.5768 - acc: 0.2473\n",
            "375/375 [==============================] - 64s 170ms/step - loss: 1.5983 - acc: 0.2413 - val_loss: 1.6005 - val_acc: 0.2473\n",
            "Epoch 80/300\n",
            "374/375 [============================>.] - ETA: 0s - loss: 1.5982 - acc: 0.2416Epoch 1/300\n",
            "1023/375 [=================================================================================] - 16s 15ms/sample - loss: 1.5753 - acc: 0.2473\n",
            "375/375 [==============================] - 63s 168ms/step - loss: 1.5984 - acc: 0.2413 - val_loss: 1.6003 - val_acc: 0.2473\n",
            "Epoch 81/300\n",
            "374/375 [============================>.] - ETA: 0s - loss: 1.5980 - acc: 0.2420Epoch 1/300\n",
            "1023/375 [=================================================================================] - 16s 15ms/sample - loss: 1.5752 - acc: 0.2473\n",
            "375/375 [==============================] - 64s 172ms/step - loss: 1.5984 - acc: 0.2413 - val_loss: 1.6003 - val_acc: 0.2473\n",
            "Epoch 82/300\n",
            "374/375 [============================>.] - ETA: 0s - loss: 1.5984 - acc: 0.2413Epoch 1/300\n",
            "1023/375 [=================================================================================] - 16s 15ms/sample - loss: 1.5751 - acc: 0.2473\n",
            "375/375 [==============================] - 64s 169ms/step - loss: 1.5983 - acc: 0.2413 - val_loss: 1.6003 - val_acc: 0.2473\n",
            "Epoch 83/300\n",
            "374/375 [============================>.] - ETA: 0s - loss: 1.5984 - acc: 0.2410Epoch 1/300\n",
            "1023/375 [=================================================================================] - 16s 15ms/sample - loss: 1.5757 - acc: 0.2473\n",
            "375/375 [==============================] - 63s 167ms/step - loss: 1.5983 - acc: 0.2413 - val_loss: 1.6003 - val_acc: 0.2473\n",
            "Epoch 84/300\n",
            "374/375 [============================>.] - ETA: 0s - loss: 1.5983 - acc: 0.2410Epoch 1/300\n",
            "1023/375 [=================================================================================] - 16s 15ms/sample - loss: 1.5759 - acc: 0.2473\n",
            "375/375 [==============================] - 64s 171ms/step - loss: 1.5983 - acc: 0.2413 - val_loss: 1.6003 - val_acc: 0.2473\n",
            "Epoch 85/300\n",
            "374/375 [============================>.] - ETA: 0s - loss: 1.5984 - acc: 0.2416Epoch 1/300\n",
            "1023/375 [=================================================================================] - 16s 15ms/sample - loss: 1.5762 - acc: 0.2473\n",
            "375/375 [==============================] - 64s 170ms/step - loss: 1.5983 - acc: 0.2413 - val_loss: 1.6003 - val_acc: 0.2473\n",
            "Epoch 86/300\n",
            "374/375 [============================>.] - ETA: 0s - loss: 1.5984 - acc: 0.2416Epoch 1/300\n",
            "1023/375 [=================================================================================] - 16s 15ms/sample - loss: 1.5760 - acc: 0.2473\n",
            "375/375 [==============================] - 65s 173ms/step - loss: 1.5983 - acc: 0.2413 - val_loss: 1.6003 - val_acc: 0.2473\n",
            "Epoch 87/300\n",
            "374/375 [============================>.] - ETA: 0s - loss: 1.5984 - acc: 0.2416Epoch 1/300\n",
            "1023/375 [=================================================================================] - 16s 15ms/sample - loss: 1.5759 - acc: 0.2473\n",
            "375/375 [==============================] - 63s 168ms/step - loss: 1.5983 - acc: 0.2413 - val_loss: 1.6003 - val_acc: 0.2473\n",
            "Epoch 88/300\n",
            "374/375 [============================>.] - ETA: 0s - loss: 1.5984 - acc: 0.2416Epoch 1/300\n",
            "1023/375 [=================================================================================] - 16s 15ms/sample - loss: 1.5751 - acc: 0.2473\n",
            "375/375 [==============================] - 64s 171ms/step - loss: 1.5983 - acc: 0.2413 - val_loss: 1.6003 - val_acc: 0.2473\n",
            "Epoch 89/300\n",
            "374/375 [============================>.] - ETA: 0s - loss: 1.5982 - acc: 0.2416Epoch 1/300\n",
            "1023/375 [=================================================================================] - 16s 15ms/sample - loss: 1.5755 - acc: 0.2473\n",
            "375/375 [==============================] - 64s 171ms/step - loss: 1.5984 - acc: 0.2413 - val_loss: 1.6003 - val_acc: 0.2473\n",
            "Epoch 90/300\n",
            "374/375 [============================>.] - ETA: 0s - loss: 1.5982 - acc: 0.2413Epoch 1/300\n",
            "1023/375 [=================================================================================] - 16s 15ms/sample - loss: 1.5758 - acc: 0.2473\n",
            "375/375 [==============================] - 63s 168ms/step - loss: 1.5983 - acc: 0.2413 - val_loss: 1.6004 - val_acc: 0.2473\n",
            "Epoch 91/300\n",
            "374/375 [============================>.] - ETA: 0s - loss: 1.5982 - acc: 0.2416Epoch 1/300\n",
            "1023/375 [=================================================================================] - 16s 15ms/sample - loss: 1.5758 - acc: 0.2473\n",
            "375/375 [==============================] - 64s 171ms/step - loss: 1.5983 - acc: 0.2413 - val_loss: 1.6004 - val_acc: 0.2473\n",
            "Epoch 92/300\n",
            "374/375 [============================>.] - ETA: 0s - loss: 1.5984 - acc: 0.2403Epoch 1/300\n",
            "1023/375 [=================================================================================] - 16s 15ms/sample - loss: 1.5770 - acc: 0.2473\n",
            "375/375 [==============================] - 64s 169ms/step - loss: 1.5984 - acc: 0.2413 - val_loss: 1.6005 - val_acc: 0.2473\n",
            "Epoch 93/300\n",
            "374/375 [============================>.] - ETA: 0s - loss: 1.5983 - acc: 0.2410Epoch 1/300\n",
            "1023/375 [=================================================================================] - 16s 15ms/sample - loss: 1.5759 - acc: 0.2473\n",
            "375/375 [==============================] - 66s 175ms/step - loss: 1.5983 - acc: 0.2410 - val_loss: 1.6004 - val_acc: 0.2473\n",
            "Epoch 94/300\n",
            "374/375 [============================>.] - ETA: 0s - loss: 1.5983 - acc: 0.2416Epoch 1/300\n",
            "1023/375 [=================================================================================] - 16s 15ms/sample - loss: 1.5757 - acc: 0.2473\n",
            "375/375 [==============================] - 64s 170ms/step - loss: 1.5983 - acc: 0.2413 - val_loss: 1.6003 - val_acc: 0.2473\n",
            "Epoch 95/300\n",
            "374/375 [============================>.] - ETA: 0s - loss: 1.5982 - acc: 0.2416Epoch 1/300\n",
            "1023/375 [=================================================================================] - 16s 15ms/sample - loss: 1.5758 - acc: 0.2473\n",
            "375/375 [==============================] - 63s 168ms/step - loss: 1.5983 - acc: 0.2413 - val_loss: 1.6004 - val_acc: 0.2473\n",
            "Epoch 96/300\n",
            "374/375 [============================>.] - ETA: 0s - loss: 1.5985 - acc: 0.2406Epoch 1/300\n",
            "1023/375 [=================================================================================] - 16s 15ms/sample - loss: 1.5756 - acc: 0.2473\n",
            "375/375 [==============================] - 64s 171ms/step - loss: 1.5983 - acc: 0.2413 - val_loss: 1.6003 - val_acc: 0.2473\n",
            "Epoch 97/300\n",
            "374/375 [============================>.] - ETA: 0s - loss: 1.5981 - acc: 0.2420Epoch 1/300\n",
            "1023/375 [=================================================================================] - 16s 15ms/sample - loss: 1.5747 - acc: 0.2473\n",
            "375/375 [==============================] - 64s 171ms/step - loss: 1.5983 - acc: 0.2413 - val_loss: 1.6002 - val_acc: 0.2473\n",
            "Epoch 98/300\n",
            "374/375 [============================>.] - ETA: 0s - loss: 1.5983 - acc: 0.2416Epoch 1/300\n",
            "1023/375 [=================================================================================] - 16s 15ms/sample - loss: 1.5751 - acc: 0.2473\n",
            "375/375 [==============================] - 64s 170ms/step - loss: 1.5983 - acc: 0.2413 - val_loss: 1.6002 - val_acc: 0.2473\n",
            "Epoch 99/300\n",
            "374/375 [============================>.] - ETA: 0s - loss: 1.5983 - acc: 0.2413Epoch 1/300\n",
            "1023/375 [=================================================================================] - 16s 15ms/sample - loss: 1.5752 - acc: 0.2473\n",
            "375/375 [==============================] - 64s 170ms/step - loss: 1.5983 - acc: 0.2413 - val_loss: 1.6002 - val_acc: 0.2473\n",
            "Epoch 100/300\n",
            "374/375 [============================>.] - ETA: 0s - loss: 1.5982 - acc: 0.2416Epoch 1/300\n",
            "1023/375 [=================================================================================] - 16s 15ms/sample - loss: 1.5758 - acc: 0.2473\n",
            "375/375 [==============================] - 64s 171ms/step - loss: 1.5984 - acc: 0.2413 - val_loss: 1.6001 - val_acc: 0.2473\n",
            "Epoch 101/300\n",
            "374/375 [============================>.] - ETA: 0s - loss: 1.5985 - acc: 0.2413Epoch 1/300\n",
            "1023/375 [=================================================================================] - 16s 15ms/sample - loss: 1.5766 - acc: 0.2473\n",
            "375/375 [==============================] - 64s 170ms/step - loss: 1.5984 - acc: 0.2413 - val_loss: 1.6002 - val_acc: 0.2473\n",
            "Epoch 102/300\n",
            "374/375 [============================>.] - ETA: 0s - loss: 1.5983 - acc: 0.2413Epoch 1/300\n",
            "1023/375 [=================================================================================] - 16s 15ms/sample - loss: 1.5761 - acc: 0.2473\n",
            "375/375 [==============================] - 63s 168ms/step - loss: 1.5983 - acc: 0.2413 - val_loss: 1.6002 - val_acc: 0.2473\n",
            "Epoch 103/300\n",
            "374/375 [============================>.] - ETA: 0s - loss: 1.5982 - acc: 0.2416Epoch 1/300\n",
            "1023/375 [=================================================================================] - 16s 15ms/sample - loss: 1.5753 - acc: 0.2473\n",
            "375/375 [==============================] - 66s 176ms/step - loss: 1.5983 - acc: 0.2413 - val_loss: 1.6003 - val_acc: 0.2473\n",
            "Epoch 104/300\n",
            "374/375 [============================>.] - ETA: 0s - loss: 1.5982 - acc: 0.2413Epoch 1/300\n",
            "1023/375 [=================================================================================] - 16s 15ms/sample - loss: 1.5753 - acc: 0.2473\n",
            "375/375 [==============================] - 65s 172ms/step - loss: 1.5983 - acc: 0.2413 - val_loss: 1.6003 - val_acc: 0.2473\n",
            "Epoch 105/300\n",
            "374/375 [============================>.] - ETA: 0s - loss: 1.5982 - acc: 0.2416Epoch 1/300\n",
            "1023/375 [=================================================================================] - 16s 15ms/sample - loss: 1.5757 - acc: 0.2473\n",
            "375/375 [==============================] - 65s 174ms/step - loss: 1.5983 - acc: 0.2413 - val_loss: 1.6003 - val_acc: 0.2473\n",
            "Epoch 106/300\n",
            "374/375 [============================>.] - ETA: 0s - loss: 1.5983 - acc: 0.2413Epoch 1/300\n",
            "1023/375 [=================================================================================] - 16s 15ms/sample - loss: 1.5755 - acc: 0.2473\n",
            "375/375 [==============================] - 63s 169ms/step - loss: 1.5983 - acc: 0.2413 - val_loss: 1.6003 - val_acc: 0.2473\n",
            "Epoch 107/300\n",
            "374/375 [============================>.] - ETA: 0s - loss: 1.5984 - acc: 0.2413Epoch 1/300\n",
            "1023/375 [=================================================================================] - 16s 15ms/sample - loss: 1.5757 - acc: 0.2473\n",
            "375/375 [==============================] - 65s 173ms/step - loss: 1.5983 - acc: 0.2413 - val_loss: 1.6002 - val_acc: 0.2473\n",
            "Epoch 108/300\n",
            "374/375 [============================>.] - ETA: 0s - loss: 1.5982 - acc: 0.2413Epoch 1/300\n",
            "1023/375 [=================================================================================] - 16s 15ms/sample - loss: 1.5754 - acc: 0.2473\n",
            "375/375 [==============================] - 66s 175ms/step - loss: 1.5983 - acc: 0.2413 - val_loss: 1.6002 - val_acc: 0.2473\n",
            "Epoch 109/300\n",
            "374/375 [============================>.] - ETA: 0s - loss: 1.5983 - acc: 0.2416Epoch 1/300\n",
            "1023/375 [=================================================================================] - 16s 15ms/sample - loss: 1.5748 - acc: 0.2473\n",
            "375/375 [==============================] - 63s 168ms/step - loss: 1.5983 - acc: 0.2413 - val_loss: 1.6001 - val_acc: 0.2473\n",
            "Epoch 110/300\n",
            "374/375 [============================>.] - ETA: 0s - loss: 1.5986 - acc: 0.2410Epoch 1/300\n",
            "1023/375 [=================================================================================] - 16s 15ms/sample - loss: 1.5750 - acc: 0.2473\n",
            "375/375 [==============================] - 63s 169ms/step - loss: 1.5983 - acc: 0.2413 - val_loss: 1.6001 - val_acc: 0.2473\n",
            "Epoch 111/300\n",
            "374/375 [============================>.] - ETA: 0s - loss: 1.5985 - acc: 0.2413Epoch 1/300\n",
            "1023/375 [=================================================================================] - 16s 15ms/sample - loss: 1.5749 - acc: 0.2473\n",
            "375/375 [==============================] - 63s 169ms/step - loss: 1.5983 - acc: 0.2413 - val_loss: 1.6002 - val_acc: 0.2473\n",
            "Epoch 112/300\n",
            "374/375 [============================>.] - ETA: 0s - loss: 1.5982 - acc: 0.2416Epoch 1/300\n",
            "1023/375 [=================================================================================] - 16s 15ms/sample - loss: 1.5761 - acc: 0.2473\n",
            "375/375 [==============================] - 65s 172ms/step - loss: 1.5983 - acc: 0.2413 - val_loss: 1.6003 - val_acc: 0.2473\n",
            "Epoch 113/300\n",
            "374/375 [============================>.] - ETA: 0s - loss: 1.5983 - acc: 0.2410Epoch 1/300\n",
            "1023/375 [=================================================================================] - 16s 15ms/sample - loss: 1.5762 - acc: 0.2473\n",
            "375/375 [==============================] - 64s 170ms/step - loss: 1.5983 - acc: 0.2413 - val_loss: 1.6004 - val_acc: 0.2473\n",
            "Epoch 114/300\n",
            "374/375 [============================>.] - ETA: 0s - loss: 1.5984 - acc: 0.2413Epoch 1/300\n",
            "1023/375 [=================================================================================] - 16s 15ms/sample - loss: 1.5761 - acc: 0.2473\n",
            "375/375 [==============================] - 65s 174ms/step - loss: 1.5983 - acc: 0.2413 - val_loss: 1.6003 - val_acc: 0.2473\n",
            "Epoch 115/300\n",
            "374/375 [============================>.] - ETA: 0s - loss: 1.5984 - acc: 0.2410Epoch 1/300\n",
            "1023/375 [=================================================================================] - 16s 15ms/sample - loss: 1.5754 - acc: 0.2473\n",
            "375/375 [==============================] - 64s 172ms/step - loss: 1.5983 - acc: 0.2413 - val_loss: 1.6002 - val_acc: 0.2473\n",
            "Epoch 116/300\n",
            "374/375 [============================>.] - ETA: 0s - loss: 1.5985 - acc: 0.2413Epoch 1/300\n",
            "1023/375 [=================================================================================] - 16s 15ms/sample - loss: 1.5754 - acc: 0.2473\n",
            "375/375 [==============================] - 64s 172ms/step - loss: 1.5983 - acc: 0.2413 - val_loss: 1.6003 - val_acc: 0.2473\n",
            "Epoch 117/300\n",
            "374/375 [============================>.] - ETA: 0s - loss: 1.5983 - acc: 0.2410Epoch 1/300\n",
            "1023/375 [=================================================================================] - 16s 15ms/sample - loss: 1.5754 - acc: 0.2473\n",
            "375/375 [==============================] - 63s 169ms/step - loss: 1.5983 - acc: 0.2413 - val_loss: 1.6003 - val_acc: 0.2473\n",
            "Epoch 118/300\n",
            "374/375 [============================>.] - ETA: 0s - loss: 1.5981 - acc: 0.2416Epoch 1/300\n",
            "1023/375 [=================================================================================] - 16s 15ms/sample - loss: 1.5751 - acc: 0.2473\n",
            "375/375 [==============================] - 64s 170ms/step - loss: 1.5983 - acc: 0.2413 - val_loss: 1.6003 - val_acc: 0.2473\n",
            "Epoch 119/300\n",
            "374/375 [============================>.] - ETA: 0s - loss: 1.5983 - acc: 0.2413Epoch 1/300\n",
            "1023/375 [=================================================================================] - 16s 15ms/sample - loss: 1.5748 - acc: 0.2473\n",
            "375/375 [==============================] - 64s 169ms/step - loss: 1.5983 - acc: 0.2413 - val_loss: 1.6002 - val_acc: 0.2473\n",
            "Epoch 120/300\n",
            "374/375 [============================>.] - ETA: 0s - loss: 1.5984 - acc: 0.2416Epoch 1/300\n",
            "1023/375 [=================================================================================] - 16s 15ms/sample - loss: 1.5743 - acc: 0.2473\n",
            "375/375 [==============================] - 64s 171ms/step - loss: 1.5983 - acc: 0.2413 - val_loss: 1.6002 - val_acc: 0.2473\n",
            "Epoch 121/300\n",
            "374/375 [============================>.] - ETA: 0s - loss: 1.5982 - acc: 0.2420Epoch 1/300\n",
            "1023/375 [=================================================================================] - 16s 15ms/sample - loss: 1.5760 - acc: 0.2473\n",
            "375/375 [==============================] - 64s 171ms/step - loss: 1.5983 - acc: 0.2413 - val_loss: 1.6004 - val_acc: 0.2473\n",
            "Epoch 122/300\n",
            "374/375 [============================>.] - ETA: 0s - loss: 1.5983 - acc: 0.2410Epoch 1/300\n",
            "1023/375 [=================================================================================] - 16s 15ms/sample - loss: 1.5766 - acc: 0.2473\n",
            "375/375 [==============================] - 64s 172ms/step - loss: 1.5983 - acc: 0.2413 - val_loss: 1.6004 - val_acc: 0.2473\n",
            "Epoch 123/300\n",
            "374/375 [============================>.] - ETA: 0s - loss: 1.5984 - acc: 0.2416Epoch 1/300\n",
            "1023/375 [=================================================================================] - 16s 15ms/sample - loss: 1.5755 - acc: 0.2473\n",
            "375/375 [==============================] - 64s 172ms/step - loss: 1.5984 - acc: 0.2413 - val_loss: 1.6003 - val_acc: 0.2473\n",
            "Epoch 124/300\n",
            "374/375 [============================>.] - ETA: 0s - loss: 1.5983 - acc: 0.2416Epoch 1/300\n",
            "1023/375 [=================================================================================] - 16s 15ms/sample - loss: 1.5751 - acc: 0.2473\n",
            "375/375 [==============================] - 63s 167ms/step - loss: 1.5984 - acc: 0.2413 - val_loss: 1.6003 - val_acc: 0.2473\n",
            "Epoch 125/300\n",
            "374/375 [============================>.] - ETA: 0s - loss: 1.5981 - acc: 0.2413Epoch 1/300\n",
            "1023/375 [=================================================================================] - 16s 15ms/sample - loss: 1.5755 - acc: 0.2473\n",
            "375/375 [==============================] - 64s 172ms/step - loss: 1.5983 - acc: 0.2413 - val_loss: 1.6003 - val_acc: 0.2473\n",
            "Epoch 126/300\n",
            "374/375 [============================>.] - ETA: 0s - loss: 1.5984 - acc: 0.2413Epoch 1/300\n",
            "1023/375 [=================================================================================] - 16s 15ms/sample - loss: 1.5743 - acc: 0.2473\n",
            "375/375 [==============================] - 64s 171ms/step - loss: 1.5984 - acc: 0.2413 - val_loss: 1.6002 - val_acc: 0.2473\n",
            "Epoch 127/300\n",
            "374/375 [============================>.] - ETA: 0s - loss: 1.5981 - acc: 0.2416Epoch 1/300\n",
            "1023/375 [=================================================================================] - 16s 15ms/sample - loss: 1.5745 - acc: 0.2473\n",
            "375/375 [==============================] - 64s 170ms/step - loss: 1.5983 - acc: 0.2413 - val_loss: 1.6002 - val_acc: 0.2473\n",
            "Epoch 128/300\n",
            "374/375 [============================>.] - ETA: 0s - loss: 1.5985 - acc: 0.2416Epoch 1/300\n",
            "1023/375 [=================================================================================] - 16s 15ms/sample - loss: 1.5748 - acc: 0.2473\n",
            "375/375 [==============================] - 64s 171ms/step - loss: 1.5983 - acc: 0.2413 - val_loss: 1.6002 - val_acc: 0.2473\n",
            "Epoch 129/300\n",
            "374/375 [============================>.] - ETA: 0s - loss: 1.5982 - acc: 0.2416Epoch 1/300\n",
            "1023/375 [=================================================================================] - 16s 15ms/sample - loss: 1.5744 - acc: 0.2473\n",
            "375/375 [==============================] - 65s 172ms/step - loss: 1.5983 - acc: 0.2413 - val_loss: 1.6001 - val_acc: 0.2473\n",
            "Epoch 130/300\n",
            "374/375 [============================>.] - ETA: 0s - loss: 1.5983 - acc: 0.2413Epoch 1/300\n",
            "1023/375 [=================================================================================] - 16s 15ms/sample - loss: 1.5752 - acc: 0.2473\n",
            "375/375 [==============================] - 63s 168ms/step - loss: 1.5983 - acc: 0.2413 - val_loss: 1.6003 - val_acc: 0.2473\n",
            "Epoch 131/300\n",
            "374/375 [============================>.] - ETA: 0s - loss: 1.5985 - acc: 0.2416Epoch 1/300\n",
            "1023/375 [=================================================================================] - 16s 15ms/sample - loss: 1.5755 - acc: 0.2473\n",
            "375/375 [==============================] - 63s 169ms/step - loss: 1.5983 - acc: 0.2413 - val_loss: 1.6002 - val_acc: 0.2473\n",
            "Epoch 132/300\n",
            "374/375 [============================>.] - ETA: 0s - loss: 1.5984 - acc: 0.2413Epoch 1/300\n",
            "1023/375 [=================================================================================] - 16s 15ms/sample - loss: 1.5744 - acc: 0.2473\n",
            "375/375 [==============================] - 63s 169ms/step - loss: 1.5983 - acc: 0.2413 - val_loss: 1.6001 - val_acc: 0.2473\n",
            "Epoch 133/300\n",
            "374/375 [============================>.] - ETA: 0s - loss: 1.5984 - acc: 0.2420Epoch 1/300\n",
            "1023/375 [=================================================================================] - 16s 15ms/sample - loss: 1.5752 - acc: 0.2473\n",
            "375/375 [==============================] - 65s 173ms/step - loss: 1.5983 - acc: 0.2413 - val_loss: 1.6003 - val_acc: 0.2473\n",
            "Epoch 134/300\n",
            "374/375 [============================>.] - ETA: 0s - loss: 1.5983 - acc: 0.2413Epoch 1/300\n",
            "1023/375 [=================================================================================] - 16s 15ms/sample - loss: 1.5754 - acc: 0.2473\n",
            "375/375 [==============================] - 64s 171ms/step - loss: 1.5984 - acc: 0.2413 - val_loss: 1.6003 - val_acc: 0.2473\n",
            "Epoch 135/300\n",
            "374/375 [============================>.] - ETA: 0s - loss: 1.5983 - acc: 0.2416Epoch 1/300\n",
            "1023/375 [=================================================================================] - 16s 15ms/sample - loss: 1.5761 - acc: 0.2473\n",
            "375/375 [==============================] - 64s 170ms/step - loss: 1.5983 - acc: 0.2413 - val_loss: 1.6003 - val_acc: 0.2473\n",
            "Epoch 136/300\n",
            "374/375 [============================>.] - ETA: 0s - loss: 1.5982 - acc: 0.2416Epoch 1/300\n",
            "1023/375 [=================================================================================] - 16s 15ms/sample - loss: 1.5765 - acc: 0.2473\n",
            "375/375 [==============================] - 65s 173ms/step - loss: 1.5983 - acc: 0.2413 - val_loss: 1.6004 - val_acc: 0.2473\n",
            "Epoch 137/300\n",
            "374/375 [============================>.] - ETA: 0s - loss: 1.5982 - acc: 0.2413Epoch 1/300\n",
            "1023/375 [=================================================================================] - 16s 15ms/sample - loss: 1.5768 - acc: 0.2473\n",
            "375/375 [==============================] - 64s 171ms/step - loss: 1.5983 - acc: 0.2413 - val_loss: 1.6004 - val_acc: 0.2473\n",
            "Epoch 138/300\n",
            "374/375 [============================>.] - ETA: 0s - loss: 1.5981 - acc: 0.2410Epoch 1/300\n",
            "1023/375 [=================================================================================] - 16s 15ms/sample - loss: 1.5766 - acc: 0.2473\n",
            "375/375 [==============================] - 65s 172ms/step - loss: 1.5983 - acc: 0.2413 - val_loss: 1.6005 - val_acc: 0.2473\n",
            "Epoch 139/300\n",
            "374/375 [============================>.] - ETA: 0s - loss: 1.5983 - acc: 0.2413Epoch 1/300\n",
            "1023/375 [=================================================================================] - 16s 15ms/sample - loss: 1.5759 - acc: 0.2473\n",
            "375/375 [==============================] - 63s 169ms/step - loss: 1.5983 - acc: 0.2413 - val_loss: 1.6004 - val_acc: 0.2473\n",
            "Epoch 140/300\n",
            "374/375 [============================>.] - ETA: 0s - loss: 1.5985 - acc: 0.2413Epoch 1/300\n",
            "1023/375 [=================================================================================] - 16s 15ms/sample - loss: 1.5760 - acc: 0.2473\n",
            "375/375 [==============================] - 64s 170ms/step - loss: 1.5983 - acc: 0.2413 - val_loss: 1.6004 - val_acc: 0.2473\n",
            "Epoch 141/300\n",
            "374/375 [============================>.] - ETA: 0s - loss: 1.5983 - acc: 0.2413Epoch 1/300\n",
            "1023/375 [=================================================================================] - 16s 15ms/sample - loss: 1.5754 - acc: 0.2473\n",
            "375/375 [==============================] - 64s 170ms/step - loss: 1.5983 - acc: 0.2413 - val_loss: 1.6003 - val_acc: 0.2473\n",
            "Epoch 142/300\n",
            "374/375 [============================>.] - ETA: 0s - loss: 1.5981 - acc: 0.2413Epoch 1/300\n",
            "1023/375 [=================================================================================] - 16s 15ms/sample - loss: 1.5756 - acc: 0.2473\n",
            "375/375 [==============================] - 64s 170ms/step - loss: 1.5983 - acc: 0.2413 - val_loss: 1.6003 - val_acc: 0.2473\n",
            "Epoch 143/300\n",
            "374/375 [============================>.] - ETA: 0s - loss: 1.5983 - acc: 0.2413Epoch 1/300\n",
            "1023/375 [=================================================================================] - 16s 15ms/sample - loss: 1.5751 - acc: 0.2473\n",
            "375/375 [==============================] - 64s 170ms/step - loss: 1.5983 - acc: 0.2413 - val_loss: 1.6003 - val_acc: 0.2473\n",
            "Epoch 144/300\n",
            "374/375 [============================>.] - ETA: 0s - loss: 1.5980 - acc: 0.2416Epoch 1/300\n",
            "1023/375 [=================================================================================] - 16s 15ms/sample - loss: 1.5751 - acc: 0.2473\n",
            "375/375 [==============================] - 65s 172ms/step - loss: 1.5983 - acc: 0.2413 - val_loss: 1.6003 - val_acc: 0.2473\n",
            "Epoch 145/300\n",
            "374/375 [============================>.] - ETA: 0s - loss: 1.5983 - acc: 0.2413Epoch 1/300\n",
            "1023/375 [=================================================================================] - 16s 15ms/sample - loss: 1.5760 - acc: 0.2473\n",
            "375/375 [==============================] - 64s 170ms/step - loss: 1.5984 - acc: 0.2413 - val_loss: 1.6004 - val_acc: 0.2473\n",
            "Epoch 146/300\n",
            "374/375 [============================>.] - ETA: 0s - loss: 1.5984 - acc: 0.2413Epoch 1/300\n",
            "1023/375 [=================================================================================] - 16s 15ms/sample - loss: 1.5760 - acc: 0.2473\n",
            "375/375 [==============================] - 63s 167ms/step - loss: 1.5983 - acc: 0.2413 - val_loss: 1.6004 - val_acc: 0.2473\n",
            "Epoch 147/300\n",
            "374/375 [============================>.] - ETA: 0s - loss: 1.5983 - acc: 0.2413Epoch 1/300\n",
            "1023/375 [=================================================================================] - 16s 15ms/sample - loss: 1.5764 - acc: 0.2473\n",
            "375/375 [==============================] - 64s 172ms/step - loss: 1.5983 - acc: 0.2413 - val_loss: 1.6004 - val_acc: 0.2473\n",
            "Epoch 148/300\n",
            "374/375 [============================>.] - ETA: 0s - loss: 1.5984 - acc: 0.2406Epoch 1/300\n",
            "1023/375 [=================================================================================] - 16s 15ms/sample - loss: 1.5757 - acc: 0.2473\n",
            "375/375 [==============================] - 65s 173ms/step - loss: 1.5983 - acc: 0.2413 - val_loss: 1.6003 - val_acc: 0.2473\n",
            "Epoch 149/300\n",
            "374/375 [============================>.] - ETA: 0s - loss: 1.5983 - acc: 0.2410Epoch 1/300\n",
            "1023/375 [=================================================================================] - 16s 15ms/sample - loss: 1.5753 - acc: 0.2473\n",
            "375/375 [==============================] - 65s 172ms/step - loss: 1.5983 - acc: 0.2413 - val_loss: 1.6003 - val_acc: 0.2473\n",
            "Epoch 150/300\n",
            "374/375 [============================>.] - ETA: 0s - loss: 1.5982 - acc: 0.2413Epoch 1/300\n",
            "1023/375 [=================================================================================] - 16s 15ms/sample - loss: 1.5760 - acc: 0.2473\n",
            "375/375 [==============================] - 63s 168ms/step - loss: 1.5983 - acc: 0.2413 - val_loss: 1.6004 - val_acc: 0.2473\n",
            "Epoch 151/300\n",
            "374/375 [============================>.] - ETA: 0s - loss: 1.5981 - acc: 0.2416Epoch 1/300\n",
            "1023/375 [=================================================================================] - 16s 15ms/sample - loss: 1.5760 - acc: 0.2473\n",
            "375/375 [==============================] - 64s 170ms/step - loss: 1.5983 - acc: 0.2413 - val_loss: 1.6004 - val_acc: 0.2473\n",
            "Epoch 152/300\n",
            "374/375 [============================>.] - ETA: 0s - loss: 1.5983 - acc: 0.2413Epoch 1/300\n",
            "1023/375 [=================================================================================] - 16s 15ms/sample - loss: 1.5753 - acc: 0.2473\n",
            "375/375 [==============================] - 64s 170ms/step - loss: 1.5983 - acc: 0.2413 - val_loss: 1.6002 - val_acc: 0.2473\n",
            "Epoch 153/300\n",
            "374/375 [============================>.] - ETA: 0s - loss: 1.5984 - acc: 0.2413Epoch 1/300\n",
            "1023/375 [=================================================================================] - 16s 15ms/sample - loss: 1.5745 - acc: 0.2473\n",
            "375/375 [==============================] - 65s 173ms/step - loss: 1.5983 - acc: 0.2413 - val_loss: 1.6001 - val_acc: 0.2473\n",
            "Epoch 154/300\n",
            "374/375 [============================>.] - ETA: 0s - loss: 1.5983 - acc: 0.2410Epoch 1/300\n",
            "1023/375 [=================================================================================] - 16s 15ms/sample - loss: 1.5745 - acc: 0.2473\n",
            "375/375 [==============================] - 64s 170ms/step - loss: 1.5983 - acc: 0.2413 - val_loss: 1.6002 - val_acc: 0.2473\n",
            "Epoch 155/300\n",
            "374/375 [============================>.] - ETA: 0s - loss: 1.5985 - acc: 0.2413Epoch 1/300\n",
            "1023/375 [=================================================================================] - 16s 15ms/sample - loss: 1.5744 - acc: 0.2473\n",
            "375/375 [==============================] - 64s 172ms/step - loss: 1.5984 - acc: 0.2413 - val_loss: 1.6001 - val_acc: 0.2473\n",
            "Epoch 156/300\n",
            "374/375 [============================>.] - ETA: 0s - loss: 1.5984 - acc: 0.2410Epoch 1/300\n",
            "1023/375 [=================================================================================] - 16s 15ms/sample - loss: 1.5749 - acc: 0.2473\n",
            "375/375 [==============================] - 64s 172ms/step - loss: 1.5983 - acc: 0.2413 - val_loss: 1.6001 - val_acc: 0.2473\n",
            "Epoch 157/300\n",
            "374/375 [============================>.] - ETA: 0s - loss: 1.5981 - acc: 0.2420Epoch 1/300\n",
            "1023/375 [=================================================================================] - 16s 15ms/sample - loss: 1.5745 - acc: 0.2473\n",
            "375/375 [==============================] - 64s 172ms/step - loss: 1.5983 - acc: 0.2413 - val_loss: 1.6001 - val_acc: 0.2473\n",
            "Epoch 158/300\n",
            "374/375 [============================>.] - ETA: 0s - loss: 1.5981 - acc: 0.2420Epoch 1/300\n",
            "1023/375 [=================================================================================] - 16s 15ms/sample - loss: 1.5744 - acc: 0.2473\n",
            "375/375 [==============================] - 64s 170ms/step - loss: 1.5983 - acc: 0.2413 - val_loss: 1.6001 - val_acc: 0.2473\n",
            "Epoch 159/300\n",
            "374/375 [============================>.] - ETA: 0s - loss: 1.5984 - acc: 0.2413Epoch 1/300\n",
            "1023/375 [=================================================================================] - 16s 15ms/sample - loss: 1.5750 - acc: 0.2473\n",
            "375/375 [==============================] - 64s 171ms/step - loss: 1.5983 - acc: 0.2413 - val_loss: 1.6002 - val_acc: 0.2473\n",
            "Epoch 160/300\n",
            "374/375 [============================>.] - ETA: 0s - loss: 1.5982 - acc: 0.2416Epoch 1/300\n",
            "1023/375 [=================================================================================] - 16s 15ms/sample - loss: 1.5755 - acc: 0.2473\n",
            "375/375 [==============================] - 65s 173ms/step - loss: 1.5983 - acc: 0.2413 - val_loss: 1.6003 - val_acc: 0.2473\n",
            "Epoch 161/300\n",
            "374/375 [============================>.] - ETA: 0s - loss: 1.5983 - acc: 0.2416Epoch 1/300\n",
            "1023/375 [=================================================================================] - 16s 15ms/sample - loss: 1.5752 - acc: 0.2473\n",
            "375/375 [==============================] - 65s 173ms/step - loss: 1.5983 - acc: 0.2413 - val_loss: 1.6003 - val_acc: 0.2473\n",
            "Epoch 162/300\n",
            "253/375 [===================>..........] - ETA: 15s - loss: 1.6003 - acc: 0.2386"
          ],
          "name": "stdout"
        }
      ]
    },
    {
      "cell_type": "code",
      "metadata": {
        "id": "dEWLEUnfp0aF",
        "colab": {
          "base_uri": "https://localhost:8080/",
          "height": 51
        },
        "outputId": "7a40bad5-621f-4f69-b5d8-64cb0949d852"
      },
      "source": [
        "loss,accuracy=model.evaluate(test_images, test_lebel)\n",
        "print(\"Accuracy: {}, Loss: {}\".format((accuracy*100),loss ))\n",
        "predictions = model.predict(test_images)"
      ],
      "execution_count": null,
      "outputs": [
        {
          "output_type": "stream",
          "text": [
            "300/300 [==============================] - 2s 6ms/sample - loss: 1.5932 - acc: 0.2600\n",
            "Accuracy: 25.999999046325684, Loss: 1.5932320022583009\n"
          ],
          "name": "stdout"
        }
      ]
    },
    {
      "cell_type": "code",
      "metadata": {
        "id": "ry87ej9NqAet"
      },
      "source": [
        "TestingData(predictions,indexToLabel)"
      ],
      "execution_count": null,
      "outputs": []
    },
    {
      "cell_type": "code",
      "metadata": {
        "id": "1WZ5SsJgqJtt"
      },
      "source": [
        "def TestingData(predictions,index_to_label):\n",
        "        plt.figure(figsize=(10,10))\n",
        "        for i in range(25):\n",
        "            plt.subplot(5,5,i+1)\n",
        "            plt.xticks([])\n",
        "            plt.yticks([])\n",
        "            plt.grid(False)\n",
        "            plt.imshow(test_images[i], cmap=plt.cm.binary)\n",
        "            plt.xlabel(index_to_label[np.argmax(predictions[i])])\n",
        "            plt.ylabel(index_to_label[test_lebel[i]])\n",
        "        plt.show()"
      ],
      "execution_count": null,
      "outputs": []
    },
    {
      "cell_type": "code",
      "metadata": {
        "id": "J0NpfLWsqQ0T"
      },
      "source": [
        "acc = history.history['acc']\n",
        "val_acc = history.history['val_acc']\n",
        "\n",
        "loss = history.history['loss']\n",
        "val_loss = history.history['val_loss']"
      ],
      "execution_count": null,
      "outputs": []
    },
    {
      "cell_type": "code",
      "metadata": {
        "id": "ELCpOCuNqdX4",
        "colab": {
          "base_uri": "https://localhost:8080/",
          "height": 279
        },
        "outputId": "fbc840e8-da5f-42f2-8208-0784edb00382"
      },
      "source": [
        "plt.figure(figsize=(8, 8))\n",
        "plt.subplot(2, 1, 1)\n",
        "plt.plot(acc, label='Training Accuracy')\n",
        "plt.plot(val_acc, label='Validation Accuracy')\n",
        "plt.legend(loc='lower right')\n",
        "plt.ylabel('Accuracy')\n",
        "plt.ylim([min(plt.ylim()),1])\n",
        "plt.title('Training and Validation Accuracy')"
      ],
      "execution_count": null,
      "outputs": [
        {
          "output_type": "execute_result",
          "data": {
            "text/plain": [
              "Text(0.5, 1.0, 'Training and Validation Accuracy')"
            ]
          },
          "metadata": {
            "tags": []
          },
          "execution_count": 24
        },
        {
          "output_type": "display_data",
          "data": {
            "image/png": "[encoded data removed]",
            "text/plain": [
              "<Figure size 576x576 with 1 Axes>"
            ]
          },
          "metadata": {
            "tags": []
          }
        }
      ]
    },
    {
      "cell_type": "code",
      "metadata": {
        "id": "Vv8sOroAq3uq"
      },
      "source": [
        "\n",
        "modele=\"model.h5\""
      ],
      "execution_count": null,
      "outputs": []
    },
    {
      "cell_type": "code",
      "metadata": {
        "id": "C-wbwge7q-YZ"
      },
      "source": [
        "\n",
        "model.save(modele)"
      ],
      "execution_count": null,
      "outputs": []
    },
    {
      "cell_type": "code",
      "metadata": {
        "id": "CQHU44K2rDSh"
      },
      "source": [
        "\n",
        "model.load_weights(checkpoint_path)"
      ],
      "execution_count": null,
      "outputs": []
    },
    {
      "cell_type": "code",
      "metadata": {
        "id": "CmcNZuJBrPu1",
        "colab": {
          "base_uri": "https://localhost:8080/",
          "height": 51
        },
        "outputId": "a075023c-3a5f-401b-9ca8-611906b81a4c"
      },
      "source": [
        "loss,accuracy=model.evaluate(test_images, test_lebel)\n",
        "print(\"Accuracy: {}, Loss: {}\".format((accuracy*100),loss ))\n",
        "predictions = model.predict(test_images)"
      ],
      "execution_count": null,
      "outputs": [
        {
          "output_type": "stream",
          "text": [
            "\r30/30 [==============================] - 0s 3ms/sample - loss: 1.6300 - acc: 0.2000\n",
            "Accuracy: 20.000000298023224, Loss: 1.6299960613250732\n"
          ],
          "name": "stdout"
        }
      ]
    },
    {
      "cell_type": "code",
      "metadata": {
        "id": "R-KYtLJPrVNl",
        "colab": {
          "base_uri": "https://localhost:8080/",
          "height": 122
        },
        "outputId": "a4375098-0322-40fe-9e27-5c92b48f3da9"
      },
      "source": [
        "from google.colab import drive\n",
        "drive.mount('/content/drive')"
      ],
      "execution_count": null,
      "outputs": [
        {
          "output_type": "stream",
          "text": [
            "Go to this URL in a browser: https://accounts.google.com/o/oauth2/auth?client_id=947318989803-6bn6qk8qdgf4n4g3pfee6491hc0brc4i.apps.googleusercontent.com&redirect_uri=urn%3aietf%3awg%3aoauth%3a2.0%3aoob&response_type=code&scope=email%20https%3a%2f%2fwww.googleapis.com%2fauth%2fdocs.test%20https%3a%2f%2fwww.googleapis.com%2fauth%2fdrive%20https%3a%2f%2fwww.googleapis.com%2fauth%2fdrive.photos.readonly%20https%3a%2f%2fwww.googleapis.com%2fauth%2fpeopleapi.readonly\n",
            "\n",
            "Enter your authorization code:\n",
            "··········\n",
            "Mounted at /content/drive\n"
          ],
          "name": "stdout"
        }
      ]
    }
  ]
}